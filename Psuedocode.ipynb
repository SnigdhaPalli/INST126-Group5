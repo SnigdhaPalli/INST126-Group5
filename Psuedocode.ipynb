{
 "cells": [
  {
   "cell_type": "code",
   "execution_count": 1,
   "metadata": {},
   "outputs": [],
   "source": [
    "# import pandas \n",
    "# open the googleplaystore file \n",
    "# readlines the googleplaystore file and store it in variable store\n",
    "# open googleplaystore_user_review file\n",
    "# readlines googleplaystore_user_review file and store it in variable review\n",
    "\n",
    "# create a list  named app_names\n",
    "# create a dictionary named price_vs_rating\n",
    "\n",
    "# for each app in store\n",
    "    # create a key for that app in the price_vs_rating dictionary and assign it to a list with rating\n",
    "    # add the rating of that app as the value of the app's key. Make the value a list\n",
    "    # add the price of that app as another value of the app's key\n",
    "    # add the number of installs of that app as another value of the app's key\n",
    "# using pandas, create a graph comparing prices to ratings\n",
    "\n",
    "# for each app in reviews:\n",
    "\t# if app not seen in list app_names\n",
    "#add it to the list\n",
    "# for every item in list app_names, create a dictionary named after the item, which is an app\n",
    "# for each line in reviews:\n",
    "\t# add a key with the number of the line and the value as a list of sentiment, sentiment polarity,     sentiment subject \n",
    "\n"
   ]
  },
  {
   "cell_type": "code",
   "execution_count": null,
   "metadata": {},
   "outputs": [],
   "source": [
    "#Sort of Working code we have so far:\n",
    "import pandas\n",
    "store= open(“googleplaystore_file.csv”)\n",
    "read_file= store.readlines()\n",
    "reviews = open(“googleplaystore_user_reviews.csv”)\n",
    "read_file= reviews.readlines()\n",
    "app_names= []\n",
    "price_vs_rating= {}\n",
    "for app in store:\n"
   ]
  }
 ],
 "metadata": {
  "kernelspec": {
   "display_name": "Python 3",
   "language": "python",
   "name": "python3"
  },
  "language_info": {
   "codemirror_mode": {
    "name": "ipython",
    "version": 3
   },
   "file_extension": ".py",
   "mimetype": "text/x-python",
   "name": "python",
   "nbconvert_exporter": "python",
   "pygments_lexer": "ipython3",
   "version": "3.6.5"
  }
 },
 "nbformat": 4,
 "nbformat_minor": 2
}
